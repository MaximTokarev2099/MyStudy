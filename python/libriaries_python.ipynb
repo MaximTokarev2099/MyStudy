{
 "cells": [
  {
   "cell_type": "markdown",
   "id": "116c9c56",
   "metadata": {},
   "source": [
    "# Стандартные библиотеки python"
   ]
  },
  {
   "cell_type": "markdown",
   "id": "c96d95b4",
   "metadata": {},
   "source": [
    "## SYS"
   ]
  },
  {
   "cell_type": "markdown",
   "id": "957fc905",
   "metadata": {},
   "source": []
  }
 ],
 "metadata": {
  "language_info": {
   "name": "python"
  }
 },
 "nbformat": 4,
 "nbformat_minor": 5
}
