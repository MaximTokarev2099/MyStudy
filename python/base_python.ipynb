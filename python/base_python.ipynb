{
 "cells": [
  {
   "cell_type": "markdown",
   "id": "290f4741",
   "metadata": {},
   "source": [
    "# Базовый синтаксис Python"
   ]
  }
 ],
 "metadata": {
  "language_info": {
   "name": "python"
  }
 },
 "nbformat": 4,
 "nbformat_minor": 5
}
